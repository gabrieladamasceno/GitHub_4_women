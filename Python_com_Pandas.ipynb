{
  "nbformat": 4,
  "nbformat_minor": 0,
  "metadata": {
    "colab": {
      "provenance": []
    },
    "kernelspec": {
      "name": "python3",
      "display_name": "Python 3"
    }
  },
  "cells": [
    {
      "cell_type": "code",
      "metadata": {
        "id": "EhPZP_pz4sYt",
        "outputId": "8e472d78-e6ae-4aae-ce71-9212a1825771",
        "colab": {
          "base_uri": "https://localhost:8080/"
        }
      },
      "source": [
        "import pandas as pd\n",
        "\n",
        "#Series: é uma lista, mas diferente de vetores e arrays pq aceita customização de índices\n",
        "# Criar series através do comando pd.series\n",
        "\n",
        "s = pd.Series([10, 20, 30, 40, 50])\n",
        "print(s)\n",
        "print(s[2])\n",
        "\n",
        "print(pd.Series([range(7)]))\n",
        "\n",
        "s1 = pd.Series(True, ['a', 'b', '99'])\n",
        "print(s1['b'])\n",
        "\n"
      ],
      "execution_count": null,
      "outputs": [
        {
          "output_type": "stream",
          "text": [
            "0    10\n",
            "1    20\n",
            "2    30\n",
            "3    40\n",
            "4    50\n",
            "dtype: int64\n",
            "30\n",
            "0    (0, 1, 2, 3, 4, 5, 6)\n",
            "dtype: object\n",
            "True\n"
          ],
          "name": "stdout"
        }
      ]
    },
    {
      "cell_type": "code",
      "metadata": {
        "id": "t7o_t2FmEVqZ",
        "outputId": "343e578d-d3b9-4dab-a0a4-0e689168c113",
        "colab": {
          "base_uri": "https://localhost:8080/"
        }
      },
      "source": [
        "# Funções count mean min man mediana\n",
        "\n",
        "s = pd.Series([10, 20, 30, 40, 50])\n",
        "\n",
        "mediana = s.median()\n",
        "max = s.max()\n",
        "min = s.min()\n",
        "\n",
        "print(s.describe())"
      ],
      "execution_count": null,
      "outputs": [
        {
          "output_type": "stream",
          "text": [
            "count     5.000000\n",
            "mean     30.000000\n",
            "std      15.811388\n",
            "min      10.000000\n",
            "25%      20.000000\n",
            "50%      30.000000\n",
            "75%      40.000000\n",
            "max      50.000000\n",
            "dtype: float64\n"
          ],
          "name": "stdout"
        }
      ]
    },
    {
      "cell_type": "code",
      "metadata": {
        "id": "iB7JXT7iGKsi",
        "outputId": "ea2b2f68-ab26-4b9b-c508-2b7a3f4742da",
        "colab": {
          "base_uri": "https://localhost:8080/",
          "height": 143
        }
      },
      "source": [
        "# DataFrame => Series com duas colunas\n",
        "\n",
        "#DataFrame é um dicioário, chaves são as colunas e os valores são as listas\n",
        "\n",
        "dici1 = {'Estado':['Amazonas', 'Amapá', 'Acre'], 'Capital':['Manaus', 'Macapá', 'Rio Branco'], 'População':[4439284, 3909093, 2310391]}\n",
        "index=(['AM', 'AP', 'AC'])\n",
        "pd.DataFrame(dici1)\n",
        "#dici1['População'].describe()"
      ],
      "execution_count": null,
      "outputs": [
        {
          "output_type": "execute_result",
          "data": {
            "text/html": [
              "<div>\n",
              "<style scoped>\n",
              "    .dataframe tbody tr th:only-of-type {\n",
              "        vertical-align: middle;\n",
              "    }\n",
              "\n",
              "    .dataframe tbody tr th {\n",
              "        vertical-align: top;\n",
              "    }\n",
              "\n",
              "    .dataframe thead th {\n",
              "        text-align: right;\n",
              "    }\n",
              "</style>\n",
              "<table border=\"1\" class=\"dataframe\">\n",
              "  <thead>\n",
              "    <tr style=\"text-align: right;\">\n",
              "      <th></th>\n",
              "      <th>Estado</th>\n",
              "      <th>Capital</th>\n",
              "      <th>População</th>\n",
              "    </tr>\n",
              "  </thead>\n",
              "  <tbody>\n",
              "    <tr>\n",
              "      <th>0</th>\n",
              "      <td>Amazonas</td>\n",
              "      <td>Manaus</td>\n",
              "      <td>4439284</td>\n",
              "    </tr>\n",
              "    <tr>\n",
              "      <th>1</th>\n",
              "      <td>Amapá</td>\n",
              "      <td>Macapá</td>\n",
              "      <td>3909093</td>\n",
              "    </tr>\n",
              "    <tr>\n",
              "      <th>2</th>\n",
              "      <td>Acre</td>\n",
              "      <td>Rio Branco</td>\n",
              "      <td>2310391</td>\n",
              "    </tr>\n",
              "  </tbody>\n",
              "</table>\n",
              "</div>"
            ],
            "text/plain": [
              "     Estado     Capital  População\n",
              "0  Amazonas      Manaus    4439284\n",
              "1     Amapá      Macapá    3909093\n",
              "2      Acre  Rio Branco    2310391"
            ]
          },
          "metadata": {
            "tags": []
          },
          "execution_count": 41
        }
      ]
    },
    {
      "cell_type": "code",
      "metadata": {
        "id": "fwe25f7OWFa4"
      },
      "source": [
        "from datetime import datetime\n"
      ],
      "execution_count": null,
      "outputs": []
    }
  ]
}